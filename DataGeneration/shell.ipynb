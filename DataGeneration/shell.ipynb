{
 "cells": [
  {
   "cell_type": "code",
   "execution_count": 129,
   "metadata": {},
   "outputs": [],
   "source": [
    "import pandas as pd\n",
    "import numpy as np\n",
    "import random\n",
    "import matplotlib.pyplot as plt"
   ]
  },
  {
   "cell_type": "code",
   "execution_count": 130,
   "metadata": {},
   "outputs": [],
   "source": [
    "def find_maximum_time(flux):\n",
    "    return 5*(0.003/flux)"
   ]
  },
  {
   "cell_type": "code",
   "execution_count": 115,
   "metadata": {},
   "outputs": [],
   "source": [
    "fluxes = []\n",
    "plt.hist\n",
    "X = np.empty((100))\n",
    "for i in range(100):\n",
    "    flux = round(random.uniform(0.0005,0.0035),5)\n",
    "    fluxes.append(flux)\n",
    "    times_for_this_flux =  np.linspace(0,find_maximum_time(flux),6)\n",
    "    X[i] = round(times_for_this_flux[1] - times_for_this_flux[0],4)"
   ]
  },
  {
   "cell_type": "code",
   "execution_count": 139,
   "metadata": {},
   "outputs": [
    {
     "data": {
      "text/plain": [
       "[0.00133,\n",
       " 0.00218,\n",
       " 0.00264,\n",
       " 0.00067,\n",
       " 0.00157,\n",
       " 0.00317,\n",
       " 0.00306,\n",
       " 0.00291,\n",
       " 0.0021,\n",
       " 0.00189,\n",
       " 0.00302,\n",
       " 0.00224,\n",
       " 0.00115,\n",
       " 0.00167,\n",
       " 0.00251,\n",
       " 0.00112,\n",
       " 0.00283,\n",
       " 0.00153,\n",
       " 0.00221,\n",
       " 0.00081,\n",
       " 0.00205,\n",
       " 0.00256,\n",
       " 0.00191,\n",
       " 0.00247,\n",
       " 0.00261,\n",
       " 0.00282,\n",
       " 0.00222,\n",
       " 0.00111,\n",
       " 0.00306,\n",
       " 0.00148,\n",
       " 0.00296,\n",
       " 0.00197,\n",
       " 0.00236,\n",
       " 0.00148,\n",
       " 0.003,\n",
       " 0.00174,\n",
       " 0.00054,\n",
       " 0.00094,\n",
       " 0.00095,\n",
       " 0.00232,\n",
       " 0.00146,\n",
       " 0.00113,\n",
       " 0.00335,\n",
       " 0.00208,\n",
       " 0.00061,\n",
       " 0.00268,\n",
       " 0.00069,\n",
       " 0.0028,\n",
       " 0.00281,\n",
       " 0.00256,\n",
       " 0.00216,\n",
       " 0.00178,\n",
       " 0.00324,\n",
       " 0.00258,\n",
       " 0.00333,\n",
       " 0.00258,\n",
       " 0.00085,\n",
       " 0.00095,\n",
       " 0.00084,\n",
       " 0.00191,\n",
       " 0.00183,\n",
       " 0.00167,\n",
       " 0.00246,\n",
       " 0.00065,\n",
       " 0.00096,\n",
       " 0.00142,\n",
       " 0.00288,\n",
       " 0.00215,\n",
       " 0.0033,\n",
       " 0.00293,\n",
       " 0.00174,\n",
       " 0.00093,\n",
       " 0.00171,\n",
       " 0.00262,\n",
       " 0.00267,\n",
       " 0.00209,\n",
       " 0.00127,\n",
       " 0.00172,\n",
       " 0.00126,\n",
       " 0.00154,\n",
       " 0.00282,\n",
       " 0.00122,\n",
       " 0.00136,\n",
       " 0.00133,\n",
       " 0.00092,\n",
       " 0.00084,\n",
       " 0.00346,\n",
       " 0.00119,\n",
       " 0.0031,\n",
       " 0.00229,\n",
       " 0.00116,\n",
       " 0.00112,\n",
       " 0.00077,\n",
       " 0.00182,\n",
       " 0.00174,\n",
       " 0.00067,\n",
       " 0.00293,\n",
       " 0.00117,\n",
       " 0.00135,\n",
       " 0.00177]"
      ]
     },
     "execution_count": 139,
     "metadata": {},
     "output_type": "execute_result"
    }
   ],
   "source": [
    "fluxes"
   ]
  },
  {
   "cell_type": "code",
   "execution_count": 116,
   "metadata": {},
   "outputs": [
    {
     "data": {
      "text/plain": [
       "(array([ 8., 12., 12.,  9., 13., 11.,  9., 10., 10.,  6.]),\n",
       " array([0.00054 , 0.000832, 0.001124, 0.001416, 0.001708, 0.002   ,\n",
       "        0.002292, 0.002584, 0.002876, 0.003168, 0.00346 ]),\n",
       " <BarContainer object of 10 artists>)"
      ]
     },
     "execution_count": 116,
     "metadata": {},
     "output_type": "execute_result"
    },
    {
     "data": {
      "image/png": "[encoded data removed]",
      "text/plain": [
       "<Figure size 640x480 with 1 Axes>"
      ]
     },
     "metadata": {},
     "output_type": "display_data"
    }
   ],
   "source": [
    "plt.hist(fluxes)"
   ]
  },
  {
   "cell_type": "code",
   "execution_count": 117,
   "metadata": {},
   "outputs": [
    {
     "data": {
      "text/plain": [
       "(100,)"
      ]
     },
     "execution_count": 117,
     "metadata": {},
     "output_type": "execute_result"
    }
   ],
   "source": [
    "X.shape"
   ]
  },
  {
   "cell_type": "code",
   "execution_count": 118,
   "metadata": {},
   "outputs": [
    {
     "data": {
      "text/plain": [
       "array([2.2556, 1.3761, 1.1364, 4.4776, 1.9108, 0.9464, 0.9804, 1.0309,\n",
       "       1.4286, 1.5873, 0.9934, 1.3393, 2.6087, 1.7964, 1.1952, 2.6786,\n",
       "       1.0601, 1.9608, 1.3575, 3.7037, 1.4634, 1.1719, 1.5707, 1.2146,\n",
       "       1.1494, 1.0638, 1.3514, 2.7027, 0.9804, 2.027 , 1.0135, 1.5228,\n",
       "       1.2712, 2.027 , 1.    , 1.7241, 5.5556, 3.1915, 3.1579, 1.2931,\n",
       "       2.0548, 2.6549, 0.8955, 1.4423, 4.918 , 1.1194, 4.3478, 1.0714,\n",
       "       1.0676, 1.1719, 1.3889, 1.6854, 0.9259, 1.1628, 0.9009, 1.1628,\n",
       "       3.5294, 3.1579, 3.5714, 1.5707, 1.6393, 1.7964, 1.2195, 4.6154,\n",
       "       3.125 , 2.1127, 1.0417, 1.3953, 0.9091, 1.0239, 1.7241, 3.2258,\n",
       "       1.7544, 1.145 , 1.1236, 1.4354, 2.3622, 1.7442, 2.381 , 1.9481,\n",
       "       1.0638, 2.459 , 2.2059, 2.2556, 3.2609, 3.5714, 0.8671, 2.521 ,\n",
       "       0.9677, 1.31  , 2.5862, 2.6786, 3.8961, 1.6484, 1.7241, 4.4776,\n",
       "       1.0239, 2.5641, 2.2222, 1.6949])"
      ]
     },
     "execution_count": 118,
     "metadata": {},
     "output_type": "execute_result"
    }
   ],
   "source": [
    "X"
   ]
  },
  {
   "cell_type": "code",
   "execution_count": 137,
   "metadata": {},
   "outputs": [],
   "source": [
    "run_files = 'stopo temp_simple.cmd\\n'\n",
    "sed = \"sed  -e 's/Clflux/'$Clflux'/g' -e 's/etch_time1/'$etch_time1'/g' -e 's/etch_time2/'$etch_time2'/g' -e 's/etch_time3/'$etch_time3'/g' -e 's/etch_time4/'$etch_time4'/g' -e 's/etch_time5/'$etch_time5'/g' simple.cmd > temp_simple.cmd\\n\"\n",
    "text  = ''\n",
    "for i in range(100):\n",
    "    \n",
    "    params = ''\n",
    "    params += f'etch_time1={round(1*X[i],4)}\\n'\n",
    "    params += f'etch_time2={round(2*X[i],4)}\\n'\n",
    "    params += f'etch_time3={round(3*X[i],4)}\\n'\n",
    "    params += f'etch_time4={round(4*X[i],4)}\\n'\n",
    "    params += f'etch_time5={round(5*X[i],4)}\\n'\n",
    "    params += f'Clflux={fluxes[i]}\\n'\n",
    "    \n",
    "    text+= f'mkdir -p Data_GAA/TDR_files/results_{fluxes[i]}\\n'\n",
    "    text+= f'mkdir -p Data_GAA/PMC_files/results_{fluxes[i]}\\n'\n",
    "    text+= 'export '\n",
    "    text += params\n",
    "    text += sed\n",
    "    text += run_files\n",
    "    "
   ]
  },
  {
   "cell_type": "code",
   "execution_count": null,
   "metadata": {},
   "outputs": [],
   "source": []
  },
  {
   "cell_type": "code",
   "execution_count": 138,
   "metadata": {},
   "outputs": [],
   "source": [
    "with open('/Users/nimitt/Documents/SRIP/SemiconductorFabricationGAA/DataGeneration/e.sh','w') as file:\n",
    "    file.write(text)"
   ]
  }
 ],
 "metadata": {
  "kernelspec": {
   "display_name": "Python 3",
   "language": "python",
   "name": "python3"
  },
  "language_info": {
   "codemirror_mode": {
    "name": "ipython",
    "version": 3
   },
   "file_extension": ".py",
   "mimetype": "text/x-python",
   "name": "python",
   "nbconvert_exporter": "python",
   "pygments_lexer": "ipython3",
   "version": "3.11.1"
  },
  "orig_nbformat": 4,
  "vscode": {
   "interpreter": {
    "hash": "aee8b7b246df8f9039afb4144a1f6fd8d2ca17a180786b69acc140d282b71a49"
   }
  }
 },
 "nbformat": 4,
 "nbformat_minor": 2
}
