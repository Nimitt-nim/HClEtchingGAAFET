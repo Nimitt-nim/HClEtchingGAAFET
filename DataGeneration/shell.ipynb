{
 "cells": [
  {
   "cell_type": "code",
   "execution_count": 7,
   "metadata": {},
   "outputs": [],
   "source": [
    "import pandas as pd\n",
    "import numpy as np\n",
    "import random"
   ]
  },
  {
   "cell_type": "code",
   "execution_count": 8,
   "metadata": {},
   "outputs": [],
   "source": [
    "features = ['Clflux','Clexponent','p1','p2','p3','p4']"
   ]
  },
  {
   "cell_type": "code",
   "execution_count": 9,
   "metadata": {},
   "outputs": [],
   "source": [
    "feature_range_values = [[0.001,0.008],\n",
    "                        [1,100],\n",
    "                        [0.3, 0.5],[0.002, 0.008],[0.5, 0.7],[0.03,0.06]]"
   ]
  },
  {
   "cell_type": "code",
   "execution_count": 10,
   "metadata": {},
   "outputs": [],
   "source": [
    "features_ranges = {}\n",
    "for i in range(len(features)):\n",
    "    features_ranges[features[i]] = feature_range_values[i]"
   ]
  },
  {
   "cell_type": "code",
   "execution_count": 11,
   "metadata": {},
   "outputs": [
    {
     "data": {
      "text/plain": [
       "{'Clflux': [0.001, 0.008],\n",
       " 'Clexponent': [1, 100],\n",
       " 'p1': [0.3, 0.5],\n",
       " 'p2': [0.002, 0.008],\n",
       " 'p3': [0.5, 0.7],\n",
       " 'p4': [0.03, 0.06]}"
      ]
     },
     "execution_count": 11,
     "metadata": {},
     "output_type": "execute_result"
    }
   ],
   "source": [
    "features_ranges"
   ]
  },
  {
   "cell_type": "code",
   "execution_count": 12,
   "metadata": {},
   "outputs": [],
   "source": [
    "num_samples = 500\n",
    "number_of_features = len(features)"
   ]
  },
  {
   "cell_type": "code",
   "execution_count": 13,
   "metadata": {},
   "outputs": [
    {
     "data": {
      "text/plain": [
       "6"
      ]
     },
     "execution_count": 13,
     "metadata": {},
     "output_type": "execute_result"
    }
   ],
   "source": [
    "number_of_features"
   ]
  },
  {
   "cell_type": "code",
   "execution_count": 14,
   "metadata": {},
   "outputs": [],
   "source": [
    "X = np.empty((num_samples,number_of_features))\n",
    "for i in range(num_samples):\n",
    "    for j in range(number_of_features):\n",
    "        X[i][j] = round(random.uniform(feature_range_values[j][0], feature_range_values[j][1]),4)"
   ]
  },
  {
   "cell_type": "code",
   "execution_count": 15,
   "metadata": {},
   "outputs": [],
   "source": [
    "X_dataframe = pd.DataFrame(X,columns = features)"
   ]
  },
  {
   "cell_type": "code",
   "execution_count": 16,
   "metadata": {},
   "outputs": [
    {
     "data": {
      "text/html": [
       "<div>\n",
       "<style scoped>\n",
       "    .dataframe tbody tr th:only-of-type {\n",
       "        vertical-align: middle;\n",
       "    }\n",
       "\n",
       "    .dataframe tbody tr th {\n",
       "        vertical-align: top;\n",
       "    }\n",
       "\n",
       "    .dataframe thead th {\n",
       "        text-align: right;\n",
       "    }\n",
       "</style>\n",
       "<table border=\"1\" class=\"dataframe\">\n",
       "  <thead>\n",
       "    <tr style=\"text-align: right;\">\n",
       "      <th></th>\n",
       "      <th>Clflux</th>\n",
       "      <th>Clexponent</th>\n",
       "      <th>p1</th>\n",
       "      <th>p2</th>\n",
       "      <th>p3</th>\n",
       "      <th>p4</th>\n",
       "    </tr>\n",
       "  </thead>\n",
       "  <tbody>\n",
       "    <tr>\n",
       "      <th>0</th>\n",
       "      <td>0.0055</td>\n",
       "      <td>34.7516</td>\n",
       "      <td>0.3775</td>\n",
       "      <td>0.0028</td>\n",
       "      <td>0.5048</td>\n",
       "      <td>0.0551</td>\n",
       "    </tr>\n",
       "    <tr>\n",
       "      <th>1</th>\n",
       "      <td>0.0046</td>\n",
       "      <td>78.6833</td>\n",
       "      <td>0.4639</td>\n",
       "      <td>0.0075</td>\n",
       "      <td>0.5195</td>\n",
       "      <td>0.0306</td>\n",
       "    </tr>\n",
       "    <tr>\n",
       "      <th>2</th>\n",
       "      <td>0.0022</td>\n",
       "      <td>3.3990</td>\n",
       "      <td>0.3736</td>\n",
       "      <td>0.0059</td>\n",
       "      <td>0.5863</td>\n",
       "      <td>0.0576</td>\n",
       "    </tr>\n",
       "    <tr>\n",
       "      <th>3</th>\n",
       "      <td>0.0077</td>\n",
       "      <td>23.2342</td>\n",
       "      <td>0.3312</td>\n",
       "      <td>0.0050</td>\n",
       "      <td>0.5160</td>\n",
       "      <td>0.0415</td>\n",
       "    </tr>\n",
       "    <tr>\n",
       "      <th>4</th>\n",
       "      <td>0.0073</td>\n",
       "      <td>82.8154</td>\n",
       "      <td>0.3080</td>\n",
       "      <td>0.0059</td>\n",
       "      <td>0.5376</td>\n",
       "      <td>0.0386</td>\n",
       "    </tr>\n",
       "    <tr>\n",
       "      <th>...</th>\n",
       "      <td>...</td>\n",
       "      <td>...</td>\n",
       "      <td>...</td>\n",
       "      <td>...</td>\n",
       "      <td>...</td>\n",
       "      <td>...</td>\n",
       "    </tr>\n",
       "    <tr>\n",
       "      <th>495</th>\n",
       "      <td>0.0046</td>\n",
       "      <td>80.5199</td>\n",
       "      <td>0.3271</td>\n",
       "      <td>0.0031</td>\n",
       "      <td>0.5622</td>\n",
       "      <td>0.0397</td>\n",
       "    </tr>\n",
       "    <tr>\n",
       "      <th>496</th>\n",
       "      <td>0.0053</td>\n",
       "      <td>79.2455</td>\n",
       "      <td>0.4639</td>\n",
       "      <td>0.0036</td>\n",
       "      <td>0.5661</td>\n",
       "      <td>0.0474</td>\n",
       "    </tr>\n",
       "    <tr>\n",
       "      <th>497</th>\n",
       "      <td>0.0037</td>\n",
       "      <td>68.4947</td>\n",
       "      <td>0.3861</td>\n",
       "      <td>0.0049</td>\n",
       "      <td>0.5153</td>\n",
       "      <td>0.0484</td>\n",
       "    </tr>\n",
       "    <tr>\n",
       "      <th>498</th>\n",
       "      <td>0.0018</td>\n",
       "      <td>63.7049</td>\n",
       "      <td>0.3083</td>\n",
       "      <td>0.0025</td>\n",
       "      <td>0.5209</td>\n",
       "      <td>0.0317</td>\n",
       "    </tr>\n",
       "    <tr>\n",
       "      <th>499</th>\n",
       "      <td>0.0022</td>\n",
       "      <td>31.2904</td>\n",
       "      <td>0.4771</td>\n",
       "      <td>0.0042</td>\n",
       "      <td>0.6149</td>\n",
       "      <td>0.0380</td>\n",
       "    </tr>\n",
       "  </tbody>\n",
       "</table>\n",
       "<p>500 rows × 6 columns</p>\n",
       "</div>"
      ],
      "text/plain": [
       "     Clflux  Clexponent      p1      p2      p3      p4\n",
       "0    0.0055     34.7516  0.3775  0.0028  0.5048  0.0551\n",
       "1    0.0046     78.6833  0.4639  0.0075  0.5195  0.0306\n",
       "2    0.0022      3.3990  0.3736  0.0059  0.5863  0.0576\n",
       "3    0.0077     23.2342  0.3312  0.0050  0.5160  0.0415\n",
       "4    0.0073     82.8154  0.3080  0.0059  0.5376  0.0386\n",
       "..      ...         ...     ...     ...     ...     ...\n",
       "495  0.0046     80.5199  0.3271  0.0031  0.5622  0.0397\n",
       "496  0.0053     79.2455  0.4639  0.0036  0.5661  0.0474\n",
       "497  0.0037     68.4947  0.3861  0.0049  0.5153  0.0484\n",
       "498  0.0018     63.7049  0.3083  0.0025  0.5209  0.0317\n",
       "499  0.0022     31.2904  0.4771  0.0042  0.6149  0.0380\n",
       "\n",
       "[500 rows x 6 columns]"
      ]
     },
     "execution_count": 16,
     "metadata": {},
     "output_type": "execute_result"
    }
   ],
   "source": [
    "X_dataframe"
   ]
  },
  {
   "cell_type": "code",
   "execution_count": 17,
   "metadata": {},
   "outputs": [],
   "source": [
    "sed = \"sed  -e 's/Clflux/'$Clflux'/g' -e 's/Clexponent/'$Clexponent'/g'  -e 's/p1/'$p1'/g' -e 's/p2/'$p2'/g'  -e 's/p3/'$p3'/g' -e 's/p4/'$p4'/g' -e 's/etch_time/'$etch_time'/g' simple.cmd > temp_simple.cmd\\n\""
   ]
  },
  {
   "cell_type": "code",
   "execution_count": 18,
   "metadata": {},
   "outputs": [],
   "source": [
    "file_name = ''\n",
    "for feature in features:\n",
    "    file_name+=f\"_{feature}\""
   ]
  },
  {
   "cell_type": "code",
   "execution_count": 19,
   "metadata": {},
   "outputs": [
    {
     "data": {
      "text/plain": [
       "'_Clflux_Clexponent_p1_p2_p3_p4'"
      ]
     },
     "execution_count": 19,
     "metadata": {},
     "output_type": "execute_result"
    }
   ],
   "source": [
    "file_name"
   ]
  },
  {
   "cell_type": "code",
   "execution_count": 20,
   "metadata": {},
   "outputs": [],
   "source": [
    "run_files = 'stopo temp_simple.cmd'\n"
   ]
  },
  {
   "cell_type": "code",
   "execution_count": 21,
   "metadata": {},
   "outputs": [],
   "source": [
    "text  = ''\n",
    "\n",
    "for k in range(8,0,-1):\n",
    "    text+= f'mkdir -p GAA_data/file{k}\\n'\n",
    "    for i in range(len(X)):\n",
    "        \n",
    "        params = ''\n",
    "        dir_name = ''\n",
    "        for j in range(len(X[0])):\n",
    "            params += f'{features[j]}={X[i][j]}\\n'\n",
    "            dir_name += f'_{X[i][j]}'\n",
    "        \n",
    "        \n",
    "        text+= 'export '\n",
    "        text += params\n",
    "        text += f\"etch_time={k}\\n\"\n",
    "        text += sed\n",
    "        text += run_files\n",
    "       "
   ]
  },
  {
   "cell_type": "code",
   "execution_count": 25,
   "metadata": {},
   "outputs": [],
   "source": [
    "with open('/Users/nimitt/Documents/SRIP/SemiconductorFabricationGAA/DataGeneration/e.sh','w') as file:\n",
    "    file.write(text)"
   ]
  },
  {
   "cell_type": "code",
   "execution_count": 26,
   "metadata": {},
   "outputs": [],
   "source": [
    "X_dataframe.to_csv('/Users/nimitt/Documents/SRIP/SemiconductorFabricationGAA/DataGeneration/X.txt')"
   ]
  }
 ],
 "metadata": {
  "kernelspec": {
   "display_name": "Python 3",
   "language": "python",
   "name": "python3"
  },
  "language_info": {
   "codemirror_mode": {
    "name": "ipython",
    "version": 3
   },
   "file_extension": ".py",
   "mimetype": "text/x-python",
   "name": "python",
   "nbconvert_exporter": "python",
   "pygments_lexer": "ipython3",
   "version": "3.11.1"
  },
  "orig_nbformat": 4,
  "vscode": {
   "interpreter": {
    "hash": "aee8b7b246df8f9039afb4144a1f6fd8d2ca17a180786b69acc140d282b71a49"
   }
  }
 },
 "nbformat": 4,
 "nbformat_minor": 2
}
