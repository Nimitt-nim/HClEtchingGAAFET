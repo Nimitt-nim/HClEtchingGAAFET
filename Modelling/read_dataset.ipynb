{
 "cells": [
  {
   "cell_type": "code",
   "execution_count": 2,
   "metadata": {},
   "outputs": [],
   "source": [
    "import pandas as pd\n",
    "import numpy as np\n",
    "import os\n",
    "import glob"
   ]
  },
  {
   "cell_type": "code",
   "execution_count": 24,
   "metadata": {},
   "outputs": [],
   "source": [
    "X = np.empty((500,2))\n",
    "parent_folder_path = '/Users/nimitt/Documents/SRIP/SemiconductorFabricationGAA/Data_GAA/CSV_files'\n",
    "folders = glob.glob(os.path.join(parent_folder_path, '*'))\n",
    "for i in range(len(folders)):\n",
    "    files = glob.glob(os.path.join(folders[i], '*'))\n",
    "    files.sort()\n",
    "\n",
    "    for j in range(len(files)):\n",
    "        path = files[j]\n",
    "        path_break = path.split('/')\n",
    "        features = np.array(list(map(float,path_break[-1][7:-4].split('_'))))\n",
    "        X[5*i+j] = features"
   ]
  },
  {
   "cell_type": "code",
   "execution_count": 28,
   "metadata": {},
   "outputs": [],
   "source": [
    "Y = np.empty((500,800))\n",
    "parent_folder_path = '/Users/nimitt/Documents/SRIP/SemiconductorFabricationGAA/Data_GAA/CSV_files'\n",
    "folders = glob.glob(os.path.join(parent_folder_path, '*'))\n",
    "for i in range(len(folders)):\n",
    "    files = glob.glob(os.path.join(folders[i], '*'))\n",
    "    files.sort()\n",
    "\n",
    "    for j in range(len(files)):\n",
    "        path = files[j]\n",
    "        data = pd.read_csv(path)\n",
    "        Y[5*i+j] = data[' Metrology_Out']"
   ]
  }
 ],
 "metadata": {
  "kernelspec": {
   "display_name": "Python 3",
   "language": "python",
   "name": "python3"
  },
  "language_info": {
   "codemirror_mode": {
    "name": "ipython",
    "version": 3
   },
   "file_extension": ".py",
   "mimetype": "text/x-python",
   "name": "python",
   "nbconvert_exporter": "python",
   "pygments_lexer": "ipython3",
   "version": "3.11.1"
  },
  "orig_nbformat": 4,
  "vscode": {
   "interpreter": {
    "hash": "aee8b7b246df8f9039afb4144a1f6fd8d2ca17a180786b69acc140d282b71a49"
   }
  }
 },
 "nbformat": 4,
 "nbformat_minor": 2
}
